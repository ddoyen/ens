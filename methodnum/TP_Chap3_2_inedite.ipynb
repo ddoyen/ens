{
 "cells": [
  {
   "cell_type": "markdown",
   "metadata": {},
   "source": [
    "# TP 3.2 : Programmer une formule de quadrature inédite"
   ]
  },
  {
   "cell_type": "markdown",
   "metadata": {},
   "source": [
    "L'objectif de cette activité est de programmer une formule de quadrature inédite : la formule de Gauss-Legendre à deux points\n",
    "\n",
    "Sur l'intervalle $[-1,1]$, la formule de Gauss-Legendre à deux points s'écrit :\n",
    "$$ I : f \\mapsto f\\left(-\\frac{1}{\\sqrt{3}}\\right)+ f\\left(\\frac{1}{\\sqrt{3}}\\right).$$\n",
    "\n",
    "Avant de passer à la programmation de cette méthode, il faut d'abord écrire la formule de Gauss-Legendre sur un intervalle générique $[a,b]$ (voir Section 1.3 du support de cours)."
   ]
  },
  {
   "cell_type": "markdown",
   "metadata": {},
   "source": [
    "Ecrire une fonction `GL2` qui calcule une intégrale $\\int_a^b f(x)\\, dx$ par la formule de Gauss-Legendre à deux points sur une subdivision uniforme."
   ]
  },
  {
   "cell_type": "code",
   "execution_count": 0,
   "metadata": {
    "collapsed": true
   },
   "outputs": [],
   "source": []
  },
  {
   "cell_type": "markdown",
   "metadata": {},
   "source": [
    "Tester la fonction `GL2` sur l'intégrale $\\int_0^{\\pi/2} \\exp(x)\\sin(x)\\, dx$."
   ]
  },
  {
   "cell_type": "code",
   "execution_count": 0,
   "metadata": {
    "scrolled": true
   },
   "outputs": [],
   "source": []
  }
 ],
 "metadata": {
  "kernelspec": {
   "display_name": "Python 3",
   "language": "python",
   "name": "python3"
  },
  "language_info": {
   "codemirror_mode": {
    "name": "ipython",
    "version": 3
   },
   "file_extension": ".py",
   "mimetype": "text/x-python",
   "name": "python",
   "nbconvert_exporter": "python",
   "pygments_lexer": "ipython3",
   "version": "3.7.0"
  }
 },
 "nbformat": 4,
 "nbformat_minor": 1
}
