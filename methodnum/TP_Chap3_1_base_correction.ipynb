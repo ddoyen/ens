{
 "cells": [
  {
   "cell_type": "markdown",
   "metadata": {},
   "source": [
    "# TP 3.1 : Programmer les formules de quadrature de base"
   ]
  },
  {
   "cell_type": "markdown",
   "metadata": {},
   "source": [
    "L'objectif de cette activité est de programmer les formules de quadrature composées de base (rectangle, point-milieu, trapèze, Simpson).\n",
    "\n",
    "Par souci de simplicité, on ne considère que des subdivisions uniformes. Pour vous aider, le programme pour la formule du rectangle à gauche vous est entièrement donné.\n",
    "\n",
    "On rappelle que le principe des formules de quadrature composées est décrit dans la Section 2 du support de cours."
   ]
  },
  {
   "cell_type": "markdown",
   "metadata": {},
   "source": [
    "## 1. Formule du rectangle à gauche\n",
    "\n",
    "Voilà une fonction `rectgauche` qui calcule une intégrale $\\int_a^b f(x)\\, dx$ par la formule du rectangle à gauche sur une subdivision uniforme. \n",
    "\n",
    "La fonction prend comme paramètres :\n",
    "- `f`, la fonction à intégrer ; \n",
    "- `a` et `b`, les bornes de l'intervalle d'intégration ;\n",
    "- `n`, le nombre de sous-intervalles de la subdivision.\n",
    "\n",
    "Elle renvoie l'approximation de l'intégrale."
   ]
  },
  {
   "cell_type": "code",
   "execution_count": 1,
   "metadata": {},
   "outputs": [],
   "source": [
    "def rectgauche(f, a, b, n):\n",
    "    \"\"\"Calcule une intégrale par la méthode du rectange à gauche\"\"\"\n",
    "    \n",
    "    h = (b-a)/n\n",
    "    \n",
    "    valint = 0\n",
    "    \n",
    "    for i in range(n):\n",
    "        xg = a + i*h\n",
    "        valint = valint + h*f(xg)\n",
    "        \n",
    "    return valint\n"
   ]
  },
  {
   "cell_type": "markdown",
   "metadata": {},
   "source": [
    "Testons cette fonction `rectgauche` sur l'intégrale $\\int_0^{\\pi/2} \\exp(x)\\sin(x)\\, dx$ (qui vaut $\\frac{1}{2}(1+e^{\\pi/2})\\approx 2.9052$)."
   ]
  },
  {
   "cell_type": "code",
   "execution_count": 2,
   "metadata": {
    "scrolled": true
   },
   "outputs": [
    {
     "name": "stdout",
     "output_type": "stream",
     "text": [
      "2.535269479231067\n",
      "2.8675356402652303\n",
      "2.901461333880708\n"
     ]
    }
   ],
   "source": [
    "from math import exp, sin, pi\n",
    "\n",
    "def f(x):\n",
    "    return exp(x)*sin(x)\n",
    "\n",
    "print(rectgauche(f, 0, pi/2, 10))\n",
    "print(rectgauche(f, 0, pi/2, 100))\n",
    "print(rectgauche(f, 0, pi/2, 1000))"
   ]
  },
  {
   "cell_type": "markdown",
   "metadata": {},
   "source": [
    "On observe bien que plus la subdivision est fine, meilleure est la précision de l'approximation."
   ]
  },
  {
   "cell_type": "markdown",
   "metadata": {},
   "source": [
    "## 2. Formule du point milieu\n",
    "\n",
    "Ecrire une fonction `pointmilieu` qui calcule une intégrale $\\int_a^b f(x)\\, dx$ par la formule du point-milieu sur une subdivision uniforme."
   ]
  },
  {
   "cell_type": "code",
   "execution_count": 3,
   "metadata": {},
   "outputs": [],
   "source": [
    "def pointmilieu(f, a, b, n):\n",
    "    \"\"\"Calcule une intégrale par la méthode du point-milieu\"\"\"\n",
    "    \n",
    "    h = (b-a)/n\n",
    "    \n",
    "    valint = 0\n",
    "    \n",
    "    for i in range(n):\n",
    "        xm = a + (i + 0.5)*h\n",
    "        valint = valint + h*f(xm)\n",
    "        \n",
    "    return valint\n"
   ]
  },
  {
   "cell_type": "markdown",
   "metadata": {},
   "source": [
    "Tester la fonction `pointmilieu` sur l'intégrale $\\int_0^{\\pi/2} \\exp(x)\\sin(x)\\, dx$."
   ]
  },
  {
   "cell_type": "code",
   "execution_count": 4,
   "metadata": {
    "scrolled": true
   },
   "outputs": [
    {
     "name": "stdout",
     "output_type": "stream",
     "text": [
      "2.9013126098084814\n",
      "2.905199514722541\n",
      "2.9052382987335887\n"
     ]
    }
   ],
   "source": [
    "print(pointmilieu(f, 0, pi/2, 10))\n",
    "print(pointmilieu(f, 0, pi/2, 100))\n",
    "print(pointmilieu(f, 0, pi/2, 1000))"
   ]
  },
  {
   "cell_type": "markdown",
   "metadata": {},
   "source": [
    "## 3. Formule du trapèze\n",
    "\n",
    "Ecrire une fonction `trapeze` qui calcule une intégrale $\\int_a^b f(x)\\, dx$ par la formule du trapèze sur une subdivision uniforme."
   ]
  },
  {
   "cell_type": "code",
   "execution_count": 5,
   "metadata": {},
   "outputs": [],
   "source": [
    "def trapeze(f, a, b, n):\n",
    "    \"\"\"Calcule une intégrale par la méthode du trapeze\"\"\"\n",
    "    # Implémentation non efficace : 2n appels à f\n",
    "    \n",
    "    h = (b-a)/n\n",
    "    \n",
    "    valint = 0\n",
    "    \n",
    "    for i in range(n):\n",
    "        xg = a + i*h\n",
    "        xd = a + (i+1)*h\n",
    "        valint = valint + 0.5*h*(f(xg) + f(xd))\n",
    "        \n",
    "    return valint\n",
    "\n",
    "def trapeze2(f, a, b, n):\n",
    "    \"\"\"Calcule une intégrale par la méthode du trapeze\"\"\"\n",
    "    # Implémentation efficace : n+1 appels à f\n",
    "    \n",
    "    h = (b-a)/n\n",
    "    \n",
    "    valint = 0\n",
    "    \n",
    "    \n",
    "    for i in range(1, n):\n",
    "        xi = a + i*h\n",
    "        valint = valint + h*f(xi)\n",
    "            \n",
    "    valint = valint + 0.5*h*f(a)\n",
    "    valint = valint + 0.5*h*f(b)\n",
    "        \n",
    "    return valint"
   ]
  },
  {
   "cell_type": "markdown",
   "metadata": {},
   "source": [
    "Tester la fonction `trapeze` sur l'intégrale $\\int_0^{\\pi/2} \\exp(x)\\sin(x)\\, dx$."
   ]
  },
  {
   "cell_type": "code",
   "execution_count": 6,
   "metadata": {},
   "outputs": [
    {
     "name": "stdout",
     "output_type": "stream",
     "text": [
      "2.9130834892385824\n",
      "2.905317041265982\n",
      "2.905239473980783\n"
     ]
    }
   ],
   "source": [
    "print(trapeze2(f, 0, pi/2, 10))\n",
    "print(trapeze2(f, 0, pi/2, 100))\n",
    "print(trapeze2(f, 0, pi/2, 1000))"
   ]
  },
  {
   "cell_type": "markdown",
   "metadata": {},
   "source": [
    "## 4. Formule de Simpson\n",
    "\n",
    "Ecrire une fonction `simpson` qui calcule une intégrale $\\int_a^b f(x)\\, dx$ par la formule de Simpson sur une subdivision uniforme."
   ]
  },
  {
   "cell_type": "code",
   "execution_count": 7,
   "metadata": {},
   "outputs": [],
   "source": [
    "def simpson(f, a, b, n):\n",
    "    \"\"\"Calcule une intégrale par la méthode de Simpson\"\"\"\n",
    "    # Implémentation non efficace : 3n appels à f\n",
    "    \n",
    "    h = (b-a)/n\n",
    "    \n",
    "    valint = 0\n",
    "    \n",
    "    for i in range(n):\n",
    "        xg = a + i*h\n",
    "        xm = a + (i+0.5)*h\n",
    "        xd = a + (i+1)*h\n",
    "        valint = valint + h*(1/6*f(xg) + 2/3*f(xm) + 1/6*f(xd))\n",
    "        \n",
    "    return valint\n",
    "\n",
    "def simpson2(f, a, b, n):\n",
    "    \"\"\"Calcule une intégrale par la méthode dde Simpson\"\"\"\n",
    "    # Implémentation efficace : 2n+1 appels à f\n",
    "    \n",
    "    h = (b-a)/n\n",
    "    \n",
    "    valint = 0\n",
    "    \n",
    "    for i in range(n):\n",
    "        xm = a + (i+0.5)*h\n",
    "        valint = valint + h*2/3*f(xm)\n",
    "    \n",
    "    for i in range(1, n):\n",
    "        xi = a + i*h\n",
    "        valint = valint + h*1/3*f(xi)\n",
    "            \n",
    "    valint = valint + 1/6*h*f(a)\n",
    "    valint = valint + 1/6*h*f(b)\n",
    "        \n",
    "    return valint"
   ]
  },
  {
   "cell_type": "markdown",
   "metadata": {},
   "source": [
    "Tester la fonction `simpson` sur l'intégrale $\\int_0^{\\pi/2} \\exp(x)\\sin(x)\\, dx$."
   ]
  },
  {
   "cell_type": "code",
   "execution_count": 8,
   "metadata": {
    "scrolled": true
   },
   "outputs": [
    {
     "name": "stdout",
     "output_type": "stream",
     "text": [
      "2.905236236285181\n",
      "2.905238690237022\n",
      "2.905238690482656\n"
     ]
    }
   ],
   "source": [
    "print(simpson2(f, 0, pi/2, 10))\n",
    "print(simpson2(f, 0, pi/2, 100))\n",
    "print(simpson2(f, 0, pi/2, 1000))"
   ]
  },
  {
   "cell_type": "code",
   "execution_count": null,
   "metadata": {},
   "outputs": [],
   "source": []
  }
 ],
 "metadata": {
  "kernelspec": {
   "display_name": "Python 3",
   "language": "python",
   "name": "python3"
  },
  "language_info": {
   "codemirror_mode": {
    "name": "ipython",
    "version": 3
   },
   "file_extension": ".py",
   "mimetype": "text/x-python",
   "name": "python",
   "nbconvert_exporter": "python",
   "pygments_lexer": "ipython3",
   "version": "3.7.0"
  }
 },
 "nbformat": 4,
 "nbformat_minor": 1
}
