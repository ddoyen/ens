{
 "cells": [
  {
   "cell_type": "markdown",
   "metadata": {},
   "source": [
    "# TP 3.3 : Observer l'ordre de convergence d'une formule composée"
   ]
  },
  {
   "cell_type": "markdown",
   "metadata": {},
   "source": [
    "L'objectif de cette activité est d'observer (ou de conjecturer) l'ordre de convergence d'une formule de quadrature composée."
   ]
  },
  {
   "cell_type": "markdown",
   "metadata": {},
   "source": [
    "## 1. Ordre de la formule du rectangle à gauche"
   ]
  },
  {
   "cell_type": "code",
   "execution_count": 2,
   "metadata": {},
   "outputs": [],
   "source": [
    "def rectgauche(f, a, b, n):\n",
    "    \"\"\"Calcule une intégrale par la méthode du rectange à gauche\"\"\"\n",
    "    \n",
    "    h = (b-a)/n\n",
    "    \n",
    "    valint = 0\n",
    "    \n",
    "    for i in range(n):\n",
    "        xg = a + i*h\n",
    "        valint = valint + h*f(xg)\n",
    "        \n",
    "    return valint"
   ]
  },
  {
   "cell_type": "markdown",
   "metadata": {},
   "source": [
    "Examinons la convergence de l'erreur pour sur l'intégrale $\\int_0^{\\pi/2} \\exp(x)\\sin(x)\\, dx$ (qui vaut $\\frac{1}{2}(1+e^{\\pi/2})$)."
   ]
  },
  {
   "cell_type": "code",
   "execution_count": 5,
   "metadata": {
    "scrolled": true
   },
   "outputs": [
    {
     "name": "stdout",
     "output_type": "stream",
     "text": [
      "0.36996921125160886\n",
      "0.037703050217445355\n",
      "0.003777356601967874\n"
     ]
    }
   ],
   "source": [
    "from math import exp, sin, pi\n",
    "\n",
    "valexacte = 0.5*(1 + exp(pi/2))\n",
    "\n",
    "def f(x):\n",
    "    return exp(x)*sin(x)\n",
    "\n",
    "print(abs(valexacte - rectgauche(f, 0, pi/2, 10)))\n",
    "print(abs(valexacte - rectgauche(f, 0, pi/2, 100)))\n",
    "print(abs(valexacte - rectgauche(f, 0, pi/2, 1000)))"
   ]
  },
  {
   "cell_type": "markdown",
   "metadata": {},
   "source": [
    "On observe que l'erreur est divisée par 10 à chaque fois qu'on raffine la subdivision par 10. On observe donc bien une convergence d'ordre 1."
   ]
  },
  {
   "cell_type": "markdown",
   "metadata": {},
   "source": [
    "## 2. Ordre des formules du point-milieu, du trapèze, de Simpson"
   ]
  },
  {
   "cell_type": "markdown",
   "metadata": {},
   "source": [
    "Vérifier sur le même exemple que dans la Section 1 que les formules du point-milieu et du trapèze convergent à l'ordre 2 et que la formule de Simpson converge à l'ordre 4."
   ]
  },
  {
   "cell_type": "code",
   "execution_count": null,
   "metadata": {},
   "outputs": [],
   "source": []
  },
  {
   "cell_type": "code",
   "execution_count": null,
   "metadata": {},
   "outputs": [],
   "source": []
  },
  {
   "cell_type": "code",
   "execution_count": null,
   "metadata": {},
   "outputs": [],
   "source": []
  },
  {
   "cell_type": "markdown",
   "metadata": {},
   "source": [
    "## 3. Ordre de la formule de Gauss-Legendre à 2 points"
   ]
  },
  {
   "cell_type": "markdown",
   "metadata": {},
   "source": [
    "En expérimentant sur l'exemple de la Section 1, conjecturer l'ordre de convergence de la formule de Gauss-Legendre à 2 points (programmée dans le TP 3.2)"
   ]
  },
  {
   "cell_type": "code",
   "execution_count": null,
   "metadata": {},
   "outputs": [],
   "source": []
  }
 ],
 "metadata": {
  "kernelspec": {
   "display_name": "Python 3",
   "language": "python",
   "name": "python3"
  },
  "language_info": {
   "codemirror_mode": {
    "name": "ipython",
    "version": 3
   },
   "file_extension": ".py",
   "mimetype": "text/x-python",
   "name": "python",
   "nbconvert_exporter": "python",
   "pygments_lexer": "ipython3",
   "version": "3.7.0"
  }
 },
 "nbformat": 4,
 "nbformat_minor": 1
}
