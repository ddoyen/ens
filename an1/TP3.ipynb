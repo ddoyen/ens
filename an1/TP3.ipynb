{
 "cells": [
  {
   "cell_type": "markdown",
   "metadata": {},
   "source": [
    "# TP 3 : Calcul d'intégrales\n",
    "\n"
   ]
  },
  {
   "cell_type": "markdown",
   "metadata": {},
   "source": [
    "Importation de toutes les fonctions du module `math` (cos, sin, exp, pi,...)"
   ]
  },
  {
   "cell_type": "code",
   "execution_count": 0,
   "metadata": {},
   "outputs": [],
   "source": [
    "from math import *"
   ]
  },
  {
   "cell_type": "markdown",
   "metadata": {},
   "source": [
    "## 1 Programmation de quelques formules de quadrature classiques"
   ]
  },
  {
   "cell_type": "markdown",
   "metadata": {},
   "source": [
    "### Formule du rectangle à gauche\n",
    "\n",
    "Ecrire une fonction ```rectgauche``` qui calcule une intégrale $\\int_a^b f(x)\\, dx$ par la formule du rectangle à gauche sur une subdivision uniforme (c'est-à-dire une subdivision dont tous les sous-intervalles ont la même longueur). La fonction prendra comme paramètres :\n",
    "- ```f```, la fonction à intégrer ; \n",
    "- ```a``` et ```b```, les bornes de l'intervalle d'intégration ;\n",
    "- ```n```, le nombre de sous-intervalles de la subdivision.\n",
    "\n",
    "Elle renverra l'approximation de l'intégrale."
   ]
  },
  {
   "cell_type": "code",
   "execution_count": 0,
   "metadata": {},
   "outputs": [],
   "source": []
  },
  {
   "cell_type": "markdown",
   "metadata": {},
   "source": [
    "Tester la fonction ```rectgauche``` sur l'intégrale $\\int_0^{\\pi/2} \\exp(x)\\sin(x)\\, dx$ (qui vaut $\\frac{1}{2}(1+e^{\\pi/2})\\approx 2.9052$)."
   ]
  },
  {
   "cell_type": "code",
   "execution_count": 0,
   "metadata": {
    "scrolled": true
   },
   "outputs": [],
   "source": []
  },
  {
   "cell_type": "markdown",
   "metadata": {},
   "source": [
    "### Formule du point milieu\n",
    "\n",
    "Ecrire une fonction ```pointmilieu``` qui calcule une intégrale $\\int_a^b f(x)\\, dx$ par la formule du point-milieu sur une subdivision uniforme."
   ]
  },
  {
   "cell_type": "code",
   "execution_count": 0,
   "metadata": {},
   "outputs": [],
   "source": []
  },
  {
   "cell_type": "markdown",
   "metadata": {},
   "source": [
    "Tester la fonction ```pointmilieu``` sur l'intégrale $\\int_0^{\\pi/2} \\exp(x)\\sin(x)\\, dx$."
   ]
  },
  {
   "cell_type": "code",
   "execution_count": 0,
   "metadata": {
    "scrolled": true
   },
   "outputs": [],
   "source": []
  },
  {
   "cell_type": "markdown",
   "metadata": {},
   "source": [
    "### Formule du trapèze\n",
    "\n",
    "Ecrire une fonction `trapeze` qui calcule une intégrale $\\int_a^b f(x)\\, dx$ par la formule du trapèze sur une subdivision uniforme."
   ]
  },
  {
   "cell_type": "code",
   "execution_count": 0,
   "metadata": {
    "collapsed": true
   },
   "outputs": [],
   "source": []
  },
  {
   "cell_type": "markdown",
   "metadata": {},
   "source": [
    "Tester la fonction ```trapeze``` sur l'intégrale $\\int_0^{\\pi/2} \\exp(x)\\sin(x)\\, dx$."
   ]
  },
  {
   "cell_type": "code",
   "execution_count": 0,
   "metadata": {
    "collapsed": true
   },
   "outputs": [],
   "source": []
  },
  {
   "cell_type": "markdown",
   "metadata": {},
   "source": [
    "### Formule de Simpson\n",
    "\n",
    "Ecrire une fonction `simpson` qui calcule une intégrale $\\int_a^b f(x)\\, dx$ par la formule de Simpson sur une subdivision uniforme."
   ]
  },
  {
   "cell_type": "code",
   "execution_count": 0,
   "metadata": {
    "collapsed": true
   },
   "outputs": [],
   "source": []
  },
  {
   "cell_type": "markdown",
   "metadata": {},
   "source": [
    "Tester la fonction `simpson` sur l'intégrale $\\int_0^{\\pi/2} \\exp(x)\\sin(x)\\, dx$."
   ]
  },
  {
   "cell_type": "code",
   "execution_count": 0,
   "metadata": {
    "scrolled": true
   },
   "outputs": [],
   "source": []
  },
  {
   "cell_type": "markdown",
   "metadata": {},
   "source": [
    "### Formule de Gauss-Legendre à deux points\n",
    "\n",
    "La formule de Gauss-Legendre à deux points sur l'intervalle $[-1,1]$ est l'application\n",
    "$$ I : f \\mapsto f\\left(-\\frac{1}{\\sqrt{3}}\\right)+ f\\left(\\frac{1}{\\sqrt{3}}\\right)$$\n",
    "\n",
    "Ecrire une fonction `gauss` qui calcule une intégrale $\\int_a^b f(x)\\, dx$ par la formule de Gauss-Legendre à deux points sur une subdivision uniforme."
   ]
  },
  {
   "cell_type": "code",
   "execution_count": 0,
   "metadata": {
    "collapsed": true
   },
   "outputs": [],
   "source": []
  },
  {
   "cell_type": "markdown",
   "metadata": {},
   "source": [
    "Tester la fonction `gauss` sur l'intégrale $\\int_0^{\\pi/2} \\exp(x)\\sin(x)\\, dx$."
   ]
  },
  {
   "cell_type": "code",
   "execution_count": 0,
   "metadata": {
    "scrolled": true
   },
   "outputs": [],
   "source": []
  },
  {
   "cell_type": "markdown",
   "metadata": {
    "collapsed": true
   },
   "source": [
    "## 2 Exploration numérique de la convergence des méthodes"
   ]
  },
  {
   "cell_type": "markdown",
   "metadata": {},
   "source": [
    "** Ordre de convergence de la formule du rectangle à gauche **\n",
    "\n",
    "Ecrire une fonction `erreur_rectgauche` qui calculer l'erreur commise par la formule du point-mileu pour le calcul de l'intégrale $\\int_0^{\\pi/2} \\exp(x)\\sin(x)\\, dx$ avec une subdivision uniforme. La fonction `erreur_rectgauche` prendra comme paramètre `n`, le nombre d'intervalles de la subdivision."
   ]
  },
  {
   "cell_type": "code",
   "execution_count": 0,
   "metadata": {
    "collapsed": true
   },
   "outputs": [],
   "source": []
  },
  {
   "cell_type": "markdown",
   "metadata": {},
   "source": [
    "Tester la fonction `erreur_rectgauche` pour `n`=10, `n`=100, `n`=1000."
   ]
  },
  {
   "cell_type": "code",
   "execution_count": 0,
   "metadata": {},
   "outputs": [],
   "source": []
  },
  {
   "cell_type": "markdown",
   "metadata": {},
   "source": [
    "Quel est l'ordre de convergence observé ? Est-ce conforme à l'ordre théorique démontré en cours ?"
   ]
  },
  {
   "cell_type": "markdown",
   "metadata": {},
   "source": [
    "** Ordre de convergence de la formule du point-milieu **\n",
    "\n",
    "Ecrire une fonction `erreur_pointmilieu` qui calculer l'erreur commise par la formule du point-mileu pour le calcul de l'intégrale $\\int_0^{\\pi/2} \\exp(x)\\sin(x)\\, dx$ avec une subdivision uniforme."
   ]
  },
  {
   "cell_type": "code",
   "execution_count": 0,
   "metadata": {
    "collapsed": true
   },
   "outputs": [],
   "source": []
  },
  {
   "cell_type": "markdown",
   "metadata": {},
   "source": [
    "Tester la fonction `erreur_pointmilieu` pour `n`=10, `n`=100, `n`=1000."
   ]
  },
  {
   "cell_type": "code",
   "execution_count": 0,
   "metadata": {},
   "outputs": [],
   "source": []
  },
  {
   "cell_type": "markdown",
   "metadata": {},
   "source": [
    "Quel est l'ordre de convergence observé ? Est-ce conforme à l'ordre théorique démontré en cours ?"
   ]
  },
  {
   "cell_type": "markdown",
   "metadata": {},
   "source": [
    "** Ordre de convergence de la formule du trapèze **\n",
    "\n",
    "Ecrire une fonction `erreur_trapeze` qui calculer l'erreur commise par la formule du point-mileu pour le calcul de l'intégrale $\\int_0^{\\pi/2} \\exp(x)\\sin(x)\\, dx$ avec une subdivision uniforme."
   ]
  },
  {
   "cell_type": "code",
   "execution_count": 0,
   "metadata": {
    "collapsed": true
   },
   "outputs": [],
   "source": []
  },
  {
   "cell_type": "markdown",
   "metadata": {},
   "source": [
    "Tester la fonction `erreur_trapeze` pour `n`=10, `n`=100, `n`=1000."
   ]
  },
  {
   "cell_type": "code",
   "execution_count": 0,
   "metadata": {},
   "outputs": [],
   "source": []
  },
  {
   "cell_type": "markdown",
   "metadata": {},
   "source": [
    "Quel est l'ordre de convergence observé ? Est-ce conforme à l'ordre théorique démontré en cours ?"
   ]
  },
  {
   "cell_type": "markdown",
   "metadata": {},
   "source": [
    "** Ordre de convergence de la formule de Simpson **\n",
    "\n",
    "Ecrire une fonction `erreur_simpson` qui calculer l'erreur commise par la formule de Simpson pour le calcul de l'intégrale $\\int_0^{\\pi/2} \\exp(x)\\sin(x)\\, dx$ avec une subdivision uniforme."
   ]
  },
  {
   "cell_type": "code",
   "execution_count": 0,
   "metadata": {
    "collapsed": true
   },
   "outputs": [],
   "source": []
  },
  {
   "cell_type": "markdown",
   "metadata": {},
   "source": [
    "Tester la fonction `erreur_simpson` pour `n`=10, `n`=100, `n`=1000."
   ]
  },
  {
   "cell_type": "code",
   "execution_count": 0,
   "metadata": {},
   "outputs": [],
   "source": []
  },
  {
   "cell_type": "markdown",
   "metadata": {},
   "source": [
    "Quel est l'ordre de convergence observé ? Est-ce conforme à l'ordre théorique démontré en cours ?"
   ]
  },
  {
   "cell_type": "markdown",
   "metadata": {},
   "source": [
    "** Ordre de convergence de la formule de Gauss-Legendre à deux points **\n",
    "\n",
    "Ecrire une fonction `erreur_gauss` qui calculer l'erreur commise par la formule de Gauss-Legendre à deux points pour le calcul de l'intégrale $\\int_0^{\\pi/2} \\exp(x)\\sin(x)\\, dx$ avec une subdivision uniforme."
   ]
  },
  {
   "cell_type": "code",
   "execution_count": 0,
   "metadata": {
    "collapsed": true
   },
   "outputs": [],
   "source": []
  },
  {
   "cell_type": "markdown",
   "metadata": {},
   "source": [
    "Tester la fonction `erreur_gauss` pour `n`=10, `n`=100, `n`=1000."
   ]
  },
  {
   "cell_type": "code",
   "execution_count": 0,
   "metadata": {},
   "outputs": [],
   "source": []
  },
  {
   "cell_type": "markdown",
   "metadata": {},
   "source": [
    "Quel est l'ordre de convergence observé ? Est-ce conforme à l'ordre théorique démontré en cours ?"
   ]
  },
  {
   "cell_type": "markdown",
   "metadata": {},
   "source": [
    "** Ordre de convergence pour une fonction peu régulière **\n",
    "\n",
    "Ecrire une fonction `erreur_pointmileu2` qui calculer l'erreur commise par la formule du point-mileu pour le calcul de l'intégrale $\\int_0^{1} \\sqrt{x} \\, dx$ (qui vaut $2/3$) avec une subdivision uniforme."
   ]
  },
  {
   "cell_type": "code",
   "execution_count": 0,
   "metadata": {
    "collapsed": true
   },
   "outputs": [],
   "source": []
  },
  {
   "cell_type": "markdown",
   "metadata": {},
   "source": [
    "Tester la fonction `erreur_pointmileu2` pour `n`=10, `n`=100, `n`=1000."
   ]
  },
  {
   "cell_type": "code",
   "execution_count": 0,
   "metadata": {},
   "outputs": [],
   "source": []
  },
  {
   "cell_type": "markdown",
   "metadata": {},
   "source": [
    "Quel est l'ordre de convergence observé ? Pourquoi ne retrouve-t-on pas l'ordre théorique ?"
   ]
  },
  {
   "cell_type": "markdown",
   "metadata": {
    "collapsed": true
   },
   "source": [
    "## 3 Formule de quadrature en 2D (facultatif)"
   ]
  },
  {
   "cell_type": "markdown",
   "metadata": {},
   "source": [
    "On considère le domaine rectangulaire $A=[0,L_x] \\times [0,L_y]$. Soit une fonction $f : A \\rightarrow \\mathbb{R}$ ($f$ est donc une fonction de deux variables). On cherche à calculer $\\int_{A} f$.\n",
    "\n",
    "On maille le domaine rectangulaire $A$ avec une grille constituée de $n_x$ colonnes et de $n_y$ lignes. Cette grille est donc constituée de $n_x \\times n_y$ mailles rectangulaires.\n",
    "\n",
    "Nous proposons la formule de quadrature suivante : faire la somme sur toutes les mailles de la valeur de $f$ au centre de de la maille multipliée l'aire de la maille.\n",
    "\n",
    "Ecrire une fonction `fquad2D` qui calcule une intégrale $\\int_A f$ de cette façon. La fonction prendra comme paramètres :\n",
    "- `f`, la fonction à intégrer ; \n",
    "- `Lx` et `Ly`, les dimensions du domaine d'intégration ;\n",
    "- `nx` et `ny`, les dimensions du maillage.\n",
    "\n",
    "Elle renverra l'approximation de l'intégrale."
   ]
  },
  {
   "cell_type": "code",
   "execution_count": 0,
   "metadata": {
    "collapsed": true
   },
   "outputs": [],
   "source": []
  },
  {
   "cell_type": "markdown",
   "metadata": {},
   "source": [
    "Tester la fonction `fquad2D` sur des intégrales de votre choix."
   ]
  },
  {
   "cell_type": "code",
   "execution_count": 0,
   "metadata": {
    "collapsed": true
   },
   "outputs": [],
   "source": []
  }
 ],
 "metadata": {
  "kernelspec": {
   "display_name": "Python 3",
   "language": "python",
   "name": "python3"
  },
  "language_info": {
   "codemirror_mode": {
    "name": "ipython",
    "version": 3
   },
   "file_extension": ".py",
   "mimetype": "text/x-python",
   "name": "python",
   "nbconvert_exporter": "python",
   "pygments_lexer": "ipython3",
   "version": "3.6.5"
  }
 },
 "nbformat": 4,
 "nbformat_minor": 1
}
